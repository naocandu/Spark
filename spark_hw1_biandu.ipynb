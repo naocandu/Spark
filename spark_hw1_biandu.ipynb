{
 "cells": [
  {
   "cell_type": "code",
   "execution_count": 2,
   "metadata": {},
   "outputs": [],
   "source": [
    "from csv import reader"
   ]
  },
  {
   "cell_type": "code",
   "execution_count": 3,
   "metadata": {},
   "outputs": [],
   "source": [
    "# read data\n",
    "crime_data_lines = sc.textFile('sf_data.csv')"
   ]
  },
  {
   "cell_type": "code",
   "execution_count": 4,
   "metadata": {},
   "outputs": [],
   "source": [
    "df_crimes = crime_data_lines.map(lambda line: [x.strip('\"') for x in next(reader([line]))])"
   ]
  },
  {
   "cell_type": "code",
   "execution_count": 6,
   "metadata": {},
   "outputs": [
    {
     "data": {
      "text/plain": [
       "['IncidntNum',\n",
       " 'Category',\n",
       " 'Descript',\n",
       " 'DayOfWeek',\n",
       " 'Date',\n",
       " 'Time',\n",
       " 'PdDistrict',\n",
       " 'Resolution',\n",
       " 'Address',\n",
       " 'X',\n",
       " 'Y',\n",
       " 'Location',\n",
       " 'PdId']"
      ]
     },
     "execution_count": 6,
     "output_type": "execute_result",
     "metadata": {}
    }
   ],
   "source": [
    "header = df_crimes.first()\n",
    "header"
   ]
  },
  {
   "cell_type": "code",
   "execution_count": 7,
   "metadata": {},
   "outputs": [
    {
     "name": "stdout",
     "output_type": "stream",
     "text": [
      "[['179005317', 'OTHER OFFENSES', 'FALSE PERSONATION TO RECEIVE MONEY OR PROPERTY', 'Tuesday', '07/11/2017', '14:32', 'SOUTHERN', 'NONE', '800 Block of BRYANT ST', '-122.40340479147905', '37.775420706711', '(37.775420706711, -122.40340479147905)', '17900531709029']]\n",
      "[['179005317', 'OTHER OFFENSES', 'FALSE PERSONATION TO RECEIVE MONEY OR PROPERTY', 'Tuesday', '07/11/2017', '14:32', 'SOUTHERN', 'NONE', '800 Block of BRYANT ST', '-122.40340479147905', '37.775420706711', '(37.775420706711, -122.40340479147905)', '17900531709029'], ['179005210', 'FORGERY/COUNTERFEITING', 'MANUFACTURE OR SALE OF COUNTERFEIT GOODS', 'Tuesday', '07/11/2017', '17:27', 'SOUTHERN', 'NONE', '800 Block of BRYANT ST', '-122.40340479147905', '37.775420706711', '(37.775420706711, -122.40340479147905)', '17900521009261']]\n",
      "8964\n"
     ]
    }
   ],
   "source": [
    "## Extract header\n",
    "crimes = df_crimes.filter(lambda x: x != header)\n",
    "print (crimes.take(1))\n",
    "print (crimes.take(2))\n",
    "print (crimes.count())"
   ]
  },
  {
   "cell_type": "code",
   "execution_count": 8,
   "metadata": {},
   "outputs": [
    {
     "data": {
      "text/plain": [
       "[('OTHER OFFENSES', 1002),\n",
       " ('FORGERY/COUNTERFEITING', 29),\n",
       " ('NON-CRIMINAL', 988),\n",
       " ('BURGLARY', 300),\n",
       " ('SEX OFFENSES, FORCIBLE', 39),\n",
       " ('ROBBERY', 187),\n",
       " ('MISSING PERSON', 263),\n",
       " ('SECONDARY CODES', 118),\n",
       " ('STOLEN PROPERTY', 66),\n",
       " ('WEAPON LAWS', 106),\n",
       " ('RECOVERED VEHICLE', 48),\n",
       " ('BRIBERY', 7),\n",
       " ('DISORDERLY CONDUCT', 18),\n",
       " ('PROSTITUTION', 20),\n",
       " ('DRUNKENNESS', 19),\n",
       " ('KIDNAPPING', 10),\n",
       " ('EXTORTION', 2),\n",
       " ('LARCENY/THEFT', 2804),\n",
       " ('VANDALISM', 650),\n",
       " ('FRAUD', 155),\n",
       " ('ASSAULT', 780),\n",
       " ('SUSPICIOUS OCC', 311),\n",
       " ('LOITERING', 4),\n",
       " ('WARRANTS', 309),\n",
       " ('VEHICLE THEFT', 353),\n",
       " ('DRUG/NARCOTIC', 167),\n",
       " ('RUNAWAY', 39),\n",
       " ('TRESPASS', 109),\n",
       " ('ARSON', 29),\n",
       " ('PORNOGRAPHY/OBSCENE MAT', 1),\n",
       " ('SEX OFFENSES, NON FORCIBLE', 1),\n",
       " ('EMBEZZLEMENT', 5),\n",
       " ('DRIVING UNDER THE INFLUENCE', 16),\n",
       " ('SUICIDE', 3),\n",
       " ('LIQUOR LAWS', 4),\n",
       " ('FAMILY OFFENSES', 1),\n",
       " ('TREA', 1)]"
      ]
     },
     "execution_count": 8,
     "output_type": "execute_result",
     "metadata": {}
    }
   ],
   "source": [
    "# Counts the number of crimes for different category.\n",
    "category_id_pairs = crimes.map(lambda x: (x[1],1))\n",
    "category_id_pairs.reduceByKey(lambda x,y: x+y).collect()"
   ]
  },
  {
   "cell_type": "code",
   "execution_count": 9,
   "metadata": {},
   "outputs": [
    {
     "data": {
      "text/plain": [
       "[('SOUTHERN', 1743),\n",
       " ('TARAVAL', 660),\n",
       " ('INGLESIDE', 670),\n",
       " ('BAYVIEW', 816),\n",
       " ('PARK', 517),\n",
       " ('RICHMOND', 527),\n",
       " ('MISSION', 1190),\n",
       " ('TENDERLOIN', 535),\n",
       " ('CENTRAL', 1137),\n",
       " ('NORTHERN', 1169)]"
      ]
     },
     "execution_count": 9,
     "output_type": "execute_result",
     "metadata": {}
    }
   ],
   "source": [
    "# Counts the number of crimes for different district¶\n",
    "category_id_pairs = crimes.map(lambda x: (x[6],1))\n",
    "category_id_pairs.reduceByKey(lambda x,y: x+y).collect()"
   ]
  },
  {
   "cell_type": "code",
   "execution_count": 13,
   "metadata": {},
   "outputs": [
    {
     "data": {
      "text/plain": [
       "[('07/16/2017', 29), ('07/23/2017', 35), ('07/30/2017', 36)]"
      ]
     },
     "execution_count": 13,
     "output_type": "execute_result",
     "metadata": {}
    }
   ],
   "source": [
    "# Count the number of crimes each Sunday at SF downtown\n",
    "filtered_crimes = crimes.filter(lambda x: x[3]=='Sunday' and x[6]=='CENTRAL' \n",
    "                                and float(x[9])<=-122.4 and float(x[9])>=-122.5 and float(x[10])>=37.7 and float(x[10])<=37.8)\n",
    "filtered_pairs = filtered_crimes.map(lambda x: (x[4],1))\n",
    "results = filtered_pairs.reduceByKey(lambda x,y: x+y)\n",
    "results.sortByKey().collect()"
   ]
  },
  {
   "cell_type": "code",
   "execution_count": 135,
   "metadata": {},
   "outputs": [
    {
     "name": "stdout",
     "output_type": "stream",
     "text": [
      "+----------+-----+\n",
      "|      Date|count|\n",
      "+----------+-----+\n",
      "|07/16/2017|   50|\n",
      "|07/23/2017|   61|\n",
      "|07/30/2017|   51|\n",
      "+----------+-----+\n",
      "\n"
     ]
    }
   ],
   "source": [
    "results_df = results.sortByKey().toDF()\n",
    "results_renamed = results_df.selectExpr('_1 as Date','_2 as count')\n",
    "results_renamed.show()"
   ]
  },
  {
   "cell_type": "code",
   "execution_count": 136,
   "metadata": {},
   "outputs": [
    {
     "data": {
      "text/plain": [
       "[(('07/11/2017', 'Tuesday'), 42),\n",
       " (('07/12/2017', 'Wednesday'), 45),\n",
       " (('07/13/2017', 'Thursday'), 64),\n",
       " (('07/14/2017', 'Friday'), 45),\n",
       " (('07/15/2017', 'Saturday'), 57),\n",
       " (('07/16/2017', 'Sunday'), 50),\n",
       " (('07/17/2017', 'Monday'), 55),\n",
       " (('07/18/2017', 'Tuesday'), 57),\n",
       " (('07/19/2017', 'Wednesday'), 59),\n",
       " (('07/20/2017', 'Thursday'), 50),\n",
       " (('07/21/2017', 'Friday'), 58),\n",
       " (('07/22/2017', 'Saturday'), 56),\n",
       " (('07/23/2017', 'Sunday'), 61),\n",
       " (('07/24/2017', 'Monday'), 52),\n",
       " (('07/25/2017', 'Tuesday'), 51),\n",
       " (('07/26/2017', 'Wednesday'), 57),\n",
       " (('07/27/2017', 'Thursday'), 56),\n",
       " (('07/28/2017', 'Friday'), 53),\n",
       " (('07/29/2017', 'Saturday'), 68),\n",
       " (('07/30/2017', 'Sunday'), 51),\n",
       " (('07/31/2017', 'Monday'), 50)]"
      ]
     },
     "execution_count": 136,
     "output_type": "execute_result",
     "metadata": {}
    }
   ],
   "source": [
    "# date/day of week/count\n",
    "filtered_crimes = crimes.filter(lambda x:x[6]=='CENTRAL')\n",
    "filtered_pairs = filtered_crimes.map(lambda x: ((x[4],x[3]),1))\n",
    "results = filtered_pairs.reduceByKey(lambda x,y: x+y)\n",
    "results.sortByKey().collect()"
   ]
  },
  {
   "cell_type": "code",
   "execution_count": 149,
   "metadata": {},
   "outputs": [
    {
     "name": "stdout",
     "output_type": "stream",
     "text": [
      "+----------+---------+-----+\n",
      "|      Date|dayOfWeek|count|\n",
      "+----------+---------+-----+\n",
      "|07/11/2017|  Tuesday|   42|\n",
      "|07/12/2017|Wednesday|   45|\n",
      "|07/13/2017| Thursday|   64|\n",
      "|07/14/2017|   Friday|   45|\n",
      "|07/15/2017| Saturday|   57|\n",
      "|07/16/2017|   Sunday|   50|\n",
      "|07/17/2017|   Monday|   55|\n",
      "|07/18/2017|  Tuesday|   57|\n",
      "|07/19/2017|Wednesday|   59|\n",
      "|07/20/2017| Thursday|   50|\n",
      "|07/21/2017|   Friday|   58|\n",
      "|07/22/2017| Saturday|   56|\n",
      "|07/23/2017|   Sunday|   61|\n",
      "|07/24/2017|   Monday|   52|\n",
      "|07/25/2017|  Tuesday|   51|\n",
      "|07/26/2017|Wednesday|   57|\n",
      "|07/27/2017| Thursday|   56|\n",
      "|07/28/2017|   Friday|   53|\n",
      "|07/29/2017| Saturday|   68|\n",
      "|07/30/2017|   Sunday|   51|\n",
      "|07/31/2017|   Monday|   50|\n",
      "+----------+---------+-----+\n",
      "\n"
     ]
    }
   ],
   "source": [
    "df = results.sortByKey().map(lambda x :(x[0][0],x[0][1],x[1])).toDF()\n",
    "df_renamed = df.selectExpr('_1 as Date','_2 as dayOfWeek','_3 as count')\n",
    "df_renamed.show(30)"
   ]
  },
  {
   "cell_type": "code",
   "execution_count": null,
   "metadata": {},
   "outputs": [],
   "source": [
    ""
   ]
  }
 ],
 "metadata": {
  "kernelspec": {
   "display_name": "Python 3",
   "language": "python",
   "name": "python3"
  },
  "language_info": {
   "codemirror_mode": {
    "name": "ipython",
    "version": 3.0
   },
   "file_extension": ".py",
   "mimetype": "text/x-python",
   "name": "python",
   "nbconvert_exporter": "python",
   "pygments_lexer": "ipython3",
   "version": "3.6.3"
  }
 },
 "nbformat": 4,
 "nbformat_minor": 2
}