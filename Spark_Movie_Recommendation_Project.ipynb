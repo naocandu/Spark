{
 "cells": [
  {
   "cell_type": "code",
   "execution_count": 1,
   "metadata": {
    "collapsed": true
   },
   "outputs": [],
   "source": [
    "import numpy as np\n",
    "import pandas as pd\n",
    "import seaborn as sns\n",
    "import matplotlib.pyplot as plt\n",
    "import math\n",
    "%matplotlib inline"
   ]
  },
  {
   "cell_type": "code",
   "execution_count": 3,
   "metadata": {
    "collapsed": false
   },
   "outputs": [
    {
     "name": "stdout",
     "output_type": "stream",
     "text": [
      "Requirement already satisfied (use --upgrade to upgrade): findspark in /Users/naocandu/anaconda/lib/python2.7/site-packages\r\n",
      "\u001b[33mYou are using pip version 8.1.1, however version 9.0.1 is available.\r\n",
      "You should consider upgrading via the 'pip install --upgrade pip' command.\u001b[0m\r\n"
     ]
    }
   ],
   "source": [
    "!pip install findspark"
   ]
  },
  {
   "cell_type": "code",
   "execution_count": 21,
   "metadata": {
    "collapsed": false
   },
   "outputs": [],
   "source": [
    "import os\n",
    "import findspark\n",
    "# use python 3\n",
    "os.environ[\"PYSPARK_PYTHON\"] = \"python3\"\n",
    "# find your spark directory\n",
    "findspark.init(\"/opt/spark-2.2.0\",)"
   ]
  },
  {
   "cell_type": "markdown",
   "metadata": {},
   "source": [
    "## Data ETL and Data Exploration"
   ]
  },
  {
   "cell_type": "code",
   "execution_count": 12,
   "metadata": {
    "collapsed": true
   },
   "outputs": [],
   "source": [
    "from pyspark.sql import SparkSession, Column, Row, functions as F "
   ]
  },
  {
   "cell_type": "code",
   "execution_count": 13,
   "metadata": {
    "collapsed": true
   },
   "outputs": [],
   "source": [
    "spark = (\n",
    "    SparkSession.builder\n",
    "        .master(\"local[*]\")\n",
    "        .appName(\"Spark Movie Recommendation Project\")\n",
    "        .getOrCreate()\n",
    ")\n",
    "sc = spark.sparkContext"
   ]
  },
  {
   "cell_type": "code",
   "execution_count": 16,
   "metadata": {
    "collapsed": false
   },
   "outputs": [],
   "source": [
    "movies = spark.read.load(\"./ml-latest-small/movies.csv\", format='csv', header = True)\n",
    "ratings = spark.read.load(\"./ml-latest-small/ratings.csv\", format='csv', header = True)\n",
    "links = spark.read.load(\"./ml-latest-small/links.csv\",format='csv', header = True)\n",
    "tags = spark.read.load(\"./ml-latest-small/tags.csv\",format='csv', header = True)"
   ]
  },
  {
   "cell_type": "code",
   "execution_count": 17,
   "metadata": {
    "collapsed": false
   },
   "outputs": [
    {
     "name": "stdout",
     "output_type": "stream",
     "text": [
      "+-------+--------------------+--------------------+\n",
      "|movieId|               title|              genres|\n",
      "+-------+--------------------+--------------------+\n",
      "|      1|    Toy Story (1995)|Adventure|Animati...|\n",
      "|      2|      Jumanji (1995)|Adventure|Childre...|\n",
      "|      3|Grumpier Old Men ...|      Comedy|Romance|\n",
      "|      4|Waiting to Exhale...|Comedy|Drama|Romance|\n",
      "|      5|Father of the Bri...|              Comedy|\n",
      "+-------+--------------------+--------------------+\n",
      "only showing top 5 rows\n",
      "\n"
     ]
    }
   ],
   "source": [
    "movies.show(5)"
   ]
  },
  {
   "cell_type": "code",
   "execution_count": 18,
   "metadata": {
    "collapsed": false
   },
   "outputs": [
    {
     "name": "stdout",
     "output_type": "stream",
     "text": [
      "+------+-------+------+----------+\n",
      "|userId|movieId|rating| timestamp|\n",
      "+------+-------+------+----------+\n",
      "|     1|     31|   2.5|1260759144|\n",
      "|     1|   1029|   3.0|1260759179|\n",
      "|     1|   1061|   3.0|1260759182|\n",
      "|     1|   1129|   2.0|1260759185|\n",
      "|     1|   1172|   4.0|1260759205|\n",
      "+------+-------+------+----------+\n",
      "only showing top 5 rows\n",
      "\n"
     ]
    }
   ],
   "source": [
    "ratings.show(5)"
   ]
  },
  {
   "cell_type": "code",
   "execution_count": 19,
   "metadata": {
    "collapsed": false
   },
   "outputs": [
    {
     "name": "stdout",
     "output_type": "stream",
     "text": [
      "+-------+-------+------+\n",
      "|movieId| imdbId|tmdbId|\n",
      "+-------+-------+------+\n",
      "|      1|0114709|   862|\n",
      "|      2|0113497|  8844|\n",
      "|      3|0113228| 15602|\n",
      "|      4|0114885| 31357|\n",
      "|      5|0113041| 11862|\n",
      "+-------+-------+------+\n",
      "only showing top 5 rows\n",
      "\n"
     ]
    }
   ],
   "source": [
    "links.show(5)"
   ]
  },
  {
   "cell_type": "code",
   "execution_count": 20,
   "metadata": {
    "collapsed": false
   },
   "outputs": [
    {
     "name": "stdout",
     "output_type": "stream",
     "text": [
      "+------+-------+--------------------+----------+\n",
      "|userId|movieId|                 tag| timestamp|\n",
      "+------+-------+--------------------+----------+\n",
      "|    15|    339|sandra 'boring' b...|1138537770|\n",
      "|    15|   1955|             dentist|1193435061|\n",
      "|    15|   7478|            Cambodia|1170560997|\n",
      "|    15|  32892|             Russian|1170626366|\n",
      "|    15|  34162|         forgettable|1141391765|\n",
      "+------+-------+--------------------+----------+\n",
      "only showing top 5 rows\n",
      "\n"
     ]
    }
   ],
   "source": [
    "tags.show(5)"
   ]
  },
  {
   "cell_type": "markdown",
   "metadata": {},
   "source": [
    "### Q1: The number of Users"
   ]
  },
  {
   "cell_type": "code",
   "execution_count": 25,
   "metadata": {
    "collapsed": false
   },
   "outputs": [
    {
     "data": {
      "text/plain": [
       "671"
      ]
     },
     "execution_count": 25,
     "metadata": {},
     "output_type": "execute_result"
    }
   ],
   "source": [
    "# ratings.select('userId').union(tags.select('userId')).distinct().count()\n",
    "ratings.select('userId').union(tags.select('userId')).distinct().count()"
   ]
  },
  {
   "cell_type": "markdown",
   "metadata": {},
   "source": [
    "### Q2: The number of Movies"
   ]
  },
  {
   "cell_type": "code",
   "execution_count": 26,
   "metadata": {
    "collapsed": false
   },
   "outputs": [
    {
     "data": {
      "text/plain": [
       "9125"
      ]
     },
     "execution_count": 26,
     "metadata": {},
     "output_type": "execute_result"
    }
   ],
   "source": [
    "ratings.select('movieId').union(tags.select('movieId')).distinct().count()"
   ]
  },
  {
   "cell_type": "markdown",
   "metadata": {},
   "source": [
    "### Q3:  How many movies are rated by users? List movies not rated before"
   ]
  },
  {
   "cell_type": "code",
   "execution_count": 27,
   "metadata": {
    "collapsed": false
   },
   "outputs": [
    {
     "data": {
      "text/plain": [
       "9066"
      ]
     },
     "execution_count": 27,
     "metadata": {},
     "output_type": "execute_result"
    }
   ],
   "source": [
    "# number of movies rated\n",
    "ratings.select('movieId').distinct().count()"
   ]
  },
  {
   "cell_type": "code",
   "execution_count": 29,
   "metadata": {
    "collapsed": false
   },
   "outputs": [
    {
     "name": "stdout",
     "output_type": "stream",
     "text": [
      "+-------+\n",
      "|movieId|\n",
      "+-------+\n",
      "| 144172|\n",
      "|  94969|\n",
      "| 132547|\n",
      "|   7335|\n",
      "| 110871|\n",
      "|   5984|\n",
      "| 131796|\n",
      "| 132800|\n",
      "| 128235|\n",
      "|  39421|\n",
      "|  82313|\n",
      "| 111251|\n",
      "|  42217|\n",
      "| 132549|\n",
      "|   8767|\n",
      "| 161582|\n",
      "| 155064|\n",
      "| 111249|\n",
      "|  48711|\n",
      "| 132458|\n",
      "+-------+\n",
      "only showing top 20 rows\n",
      "\n"
     ]
    }
   ],
   "source": [
    "# movie not rated\n",
    "all_movies = ratings.select('movieId').union(tags.select('movieId'))\n",
    "rated = ratings.select('movieId')\n",
    "not_rated = all_movies.subtract(rated)\n",
    "not_rated.show()"
   ]
  },
  {
   "cell_type": "markdown",
   "metadata": {},
   "source": [
    "### Q4: List Movie Genres"
   ]
  },
  {
   "cell_type": "code",
   "execution_count": 40,
   "metadata": {
    "collapsed": false
   },
   "outputs": [
    {
     "data": {
      "text/plain": [
       "[u'Mystery',\n",
       " u'Romance',\n",
       " u'IMAX',\n",
       " u'Sci-Fi',\n",
       " u'Horror',\n",
       " u'Film-Noir',\n",
       " u'Crime',\n",
       " u'Drama',\n",
       " u'Fantasy',\n",
       " u'Animation',\n",
       " u'War',\n",
       " u'Western',\n",
       " u'Children',\n",
       " u'Action',\n",
       " u'(no genres listed)',\n",
       " u'Comedy',\n",
       " u'Documentary',\n",
       " u'Musical',\n",
       " u'Thriller',\n",
       " u'Adventure']"
      ]
     },
     "execution_count": 40,
     "metadata": {},
     "output_type": "execute_result"
    }
   ],
   "source": [
    "# DataFrame has no \"map\" function. Should transform to rdd and then use flatMap\n",
    "movies.select('genres').rdd.flatMap(lambda x: x[0].split('|')).distinct().collect()"
   ]
  },
  {
   "cell_type": "markdown",
   "metadata": {},
   "source": [
    "### Q5: Movie for Each Category"
   ]
  },
  {
   "cell_type": "code",
   "execution_count": 47,
   "metadata": {
    "collapsed": false
   },
   "outputs": [
    {
     "data": {
      "text/plain": [
       "[(u'Mystery', 543),\n",
       " (u'Romance', 1545),\n",
       " (u'IMAX', 153),\n",
       " (u'Sci-Fi', 792),\n",
       " (u'Horror', 877),\n",
       " (u'Film-Noir', 133),\n",
       " (u'Crime', 1100),\n",
       " (u'Drama', 4365),\n",
       " (u'Fantasy', 654),\n",
       " (u'Animation', 447),\n",
       " (u'War', 367),\n",
       " (u'Western', 168),\n",
       " (u'Children', 583),\n",
       " (u'Action', 1545),\n",
       " (u'(no genres listed)', 18),\n",
       " (u'Comedy', 3315),\n",
       " (u'Documentary', 495),\n",
       " (u'Musical', 394),\n",
       " (u'Thriller', 1729),\n",
       " (u'Adventure', 1117)]"
      ]
     },
     "execution_count": 47,
     "metadata": {},
     "output_type": "execute_result"
    }
   ],
   "source": [
    "# compute number of movies for each category\n",
    "# generate a genre rdd\n",
    "genre_rdd = movies.select('genres').rdd\n",
    "# generate (genre, 1) pair\n",
    "genre_pair = genre_rdd.flatMap(lambda x: x[0].split('|')).map(lambda x: (x,1))\n",
    "# count using reduceByKey\n",
    "genre_pair.reduceByKey(lambda x,y: x+y).collect()"
   ]
  },
  {
   "cell_type": "code",
   "execution_count": 52,
   "metadata": {
    "collapsed": false
   },
   "outputs": [
    {
     "data": {
      "text/plain": [
       "defaultdict(int,\n",
       "            {u'(no genres listed)': 18,\n",
       "             u'Action': 1545,\n",
       "             u'Adventure': 1117,\n",
       "             u'Animation': 447,\n",
       "             u'Children': 583,\n",
       "             u'Comedy': 3315,\n",
       "             u'Crime': 1100,\n",
       "             u'Documentary': 495,\n",
       "             u'Drama': 4365,\n",
       "             u'Fantasy': 654,\n",
       "             u'Film-Noir': 133,\n",
       "             u'Horror': 877,\n",
       "             u'IMAX': 153,\n",
       "             u'Musical': 394,\n",
       "             u'Mystery': 543,\n",
       "             u'Romance': 1545,\n",
       "             u'Sci-Fi': 792,\n",
       "             u'Thriller': 1729,\n",
       "             u'War': 367,\n",
       "             u'Western': 168})"
      ]
     },
     "execution_count": 52,
     "metadata": {},
     "output_type": "execute_result"
    }
   ],
   "source": [
    "genre_rdd.flatMap(lambda x: x[0].split('|')).countByValue()"
   ]
  },
  {
   "cell_type": "markdown",
   "metadata": {},
   "source": [
    "# Prepare Data for Training"
   ]
  },
  {
   "cell_type": "code",
   "execution_count": 55,
   "metadata": {
    "collapsed": true
   },
   "outputs": [],
   "source": [
    "from pyspark.mllib.recommendation import ALS,MatrixFactorizationModel, Rating"
   ]
  },
  {
   "cell_type": "code",
   "execution_count": 56,
   "metadata": {
    "collapsed": true
   },
   "outputs": [],
   "source": [
    "movie_rating = sc.textFile(\"./ml-latest-small/ratings.csv\")"
   ]
  },
  {
   "cell_type": "code",
   "execution_count": 57,
   "metadata": {
    "collapsed": true
   },
   "outputs": [],
   "source": [
    "header = movie_rating.take(1)[0]\n",
    "rating_data = movie_rating.filter(\n",
    "    lambda line: line!=header).map(\n",
    "    lambda line: line.split(\",\")).map(\n",
    "    lambda tokens: (tokens[0],tokens[1],tokens[2])).cache()"
   ]
  },
  {
   "cell_type": "code",
   "execution_count": 61,
   "metadata": {
    "collapsed": false
   },
   "outputs": [
    {
     "data": {
      "text/plain": [
       "[(u'1', u'31', u'2.5'),\n",
       " (u'1', u'1029', u'3.0'),\n",
       " (u'1', u'1061', u'3.0'),\n",
       " (u'1', u'1129', u'2.0'),\n",
       " (u'1', u'1172', u'4.0'),\n",
       " (u'1', u'1263', u'2.0'),\n",
       " (u'1', u'1287', u'2.0'),\n",
       " (u'1', u'1293', u'2.0'),\n",
       " (u'1', u'1339', u'3.5'),\n",
       " (u'1', u'1343', u'2.0')]"
      ]
     },
     "execution_count": 61,
     "metadata": {},
     "output_type": "execute_result"
    }
   ],
   "source": [
    "rating_data.take(10)"
   ]
  },
  {
   "cell_type": "code",
   "execution_count": 62,
   "metadata": {
    "collapsed": true
   },
   "outputs": [],
   "source": [
    "# 60% training, 20 %validation, 20% test\n",
    "train, validation, test = rating_data.randomSplit([6,2,2],seed = 7856)"
   ]
  },
  {
   "cell_type": "code",
   "execution_count": 63,
   "metadata": {
    "collapsed": false
   },
   "outputs": [
    {
     "data": {
      "text/plain": [
       "PythonRDD[207] at RDD at PythonRDD.scala:48"
      ]
     },
     "execution_count": 63,
     "metadata": {},
     "output_type": "execute_result"
    }
   ],
   "source": [
    "train.cache()"
   ]
  },
  {
   "cell_type": "code",
   "execution_count": 64,
   "metadata": {
    "collapsed": false
   },
   "outputs": [
    {
     "data": {
      "text/plain": [
       "PythonRDD[208] at RDD at PythonRDD.scala:48"
      ]
     },
     "execution_count": 64,
     "metadata": {},
     "output_type": "execute_result"
    }
   ],
   "source": [
    "test.cache()"
   ]
  },
  {
   "cell_type": "code",
   "execution_count": 65,
   "metadata": {
    "collapsed": false
   },
   "outputs": [
    {
     "data": {
      "text/plain": [
       "PythonRDD[209] at RDD at PythonRDD.scala:48"
      ]
     },
     "execution_count": 65,
     "metadata": {},
     "output_type": "execute_result"
    }
   ],
   "source": [
    "validation.cache()"
   ]
  },
  {
   "cell_type": "code",
   "execution_count": 72,
   "metadata": {
    "collapsed": true
   },
   "outputs": [],
   "source": [
    "test_RDD = test.map(lambda x: (x[0], x[1]))"
   ]
  },
  {
   "cell_type": "markdown",
   "metadata": {},
   "source": [
    "# Training Step"
   ]
  },
  {
   "cell_type": "code",
   "execution_count": 68,
   "metadata": {
    "collapsed": true
   },
   "outputs": [],
   "source": [
    "import math\n",
    "num_iterations = 10\n",
    "ranks = [4,6,8,10]\n",
    "reg_params = [0.005,0.01, 0.05, 0.1, 0.2]\n",
    "all_errors = []\n",
    "def train_ALS(train_data, validation_data, num_iters, reg_param, ranks, all_errors):\n",
    "    min_error = float('inf')\n",
    "    best_rank = -1\n",
    "    best_regularization = 0\n",
    "    # grid search to find optimal parameters\n",
    "    for rank in ranks:\n",
    "        for reg in reg_param:\n",
    "            # train ALS model\n",
    "            model = ALS.train(train_data, rank, iterations = num_iters, lambda_ = reg)\n",
    "            # predict\n",
    "            predictions = model.predictAll(validation_data.map(lambda x: (x[0], x[1])))\n",
    "            predictions = predictions.map(lambda x: ((x[0], x[1]), x[2]))\n",
    "            # join prediction and ground truth\n",
    "            rate_and_preds = validation_data.map(lambda x: ((int(x[0]), int(x[1])), float(x[2]))).join(predictions)\n",
    "            # square error\n",
    "            error = math.sqrt(rate_and_preds.map(lambda r: (r[1][0] - r[1][1])**2).mean())\n",
    "            all_errors.append(error)\n",
    "            print ('The rank %s and regularization %s has error %s' % (rank, reg, error))\n",
    "            if error < min_error:\n",
    "                min_error = error\n",
    "                best_rank = rank\n",
    "                best_regularization = reg\n",
    "    print ('The best model is rank %s with regularization %s' % (best_rank, best_regularization))\n",
    "    return all_errors"
   ]
  },
  {
   "cell_type": "code",
   "execution_count": 69,
   "metadata": {
    "collapsed": false,
    "scrolled": false
   },
   "outputs": [
    {
     "name": "stdout",
     "output_type": "stream",
     "text": [
      "The rank 4 and regularization 0.005 has error 1.14696415621\n",
      "The rank 4 and regularization 0.01 has error 1.1018654833\n",
      "The rank 4 and regularization 0.05 has error 1.00468772406\n",
      "The rank 4 and regularization 0.1 has error 0.95226932484\n",
      "The rank 4 and regularization 0.2 has error 0.936175448729\n",
      "The rank 6 and regularization 0.005 has error 1.20137464357\n",
      "The rank 6 and regularization 0.01 has error 1.17053615502\n",
      "The rank 6 and regularization 0.05 has error 1.02114171713\n",
      "The rank 6 and regularization 0.1 has error 0.957807818564\n",
      "The rank 6 and regularization 0.2 has error 0.93675378278\n",
      "The rank 8 and regularization 0.005 has error 1.314841173\n",
      "The rank 8 and regularization 0.01 has error 1.20882921524\n",
      "The rank 8 and regularization 0.05 has error 1.03694123643\n",
      "The rank 8 and regularization 0.1 has error 0.964283827021\n",
      "The rank 8 and regularization 0.2 has error 0.936078451527\n",
      "The rank 10 and regularization 0.005 has error 1.31805777495\n",
      "The rank 10 and regularization 0.01 has error 1.24665038066\n",
      "The rank 10 and regularization 0.05 has error 1.05409273469\n",
      "The rank 10 and regularization 0.1 has error 0.963263197458\n",
      "The rank 10 and regularization 0.2 has error 0.936455216916\n",
      "The best model is rank 8 with regularization 0.2\n"
     ]
    },
    {
     "data": {
      "text/plain": [
       "[1.1469641562072765,\n",
       " 1.1018654832966273,\n",
       " 1.0046877240641021,\n",
       " 0.9522693248398854,\n",
       " 0.9361754487290246,\n",
       " 1.2013746435713124,\n",
       " 1.1705361550207616,\n",
       " 1.0211417171343715,\n",
       " 0.9578078185639611,\n",
       " 0.9367537827800781,\n",
       " 1.3148411730008425,\n",
       " 1.2088292152403097,\n",
       " 1.036941236430903,\n",
       " 0.9642838270205953,\n",
       " 0.9360784515274764,\n",
       " 1.3180577749473712,\n",
       " 1.2466503806582134,\n",
       " 1.0540927346939004,\n",
       " 0.9632631974580673,\n",
       " 0.9364552169162403]"
      ]
     },
     "execution_count": 69,
     "metadata": {},
     "output_type": "execute_result"
    }
   ],
   "source": [
    "train_ALS(train, validation, num_iterations,reg_params, ranks, all_errors)"
   ]
  },
  {
   "cell_type": "code",
   "execution_count": 70,
   "metadata": {
    "collapsed": false,
    "scrolled": false
   },
   "outputs": [
    {
     "name": "stdout",
     "output_type": "stream",
     "text": [
      "The rank 6 and regularization 0.1 has error 0.955943140101\n",
      "The rank 6 and regularization 0.2 has error 0.935673147404\n",
      "The rank 6 and regularization 0.3 has error 0.959392942985\n",
      "The rank 6 and regularization 0.4 has error 0.998364574792\n",
      "The rank 8 and regularization 0.1 has error 0.958949698257\n",
      "The rank 8 and regularization 0.2 has error 0.936553515608\n",
      "The rank 8 and regularization 0.3 has error 0.959412033037\n",
      "The rank 8 and regularization 0.4 has error 0.998571137915\n",
      "The rank 10 and regularization 0.1 has error 0.957418615109\n",
      "The rank 10 and regularization 0.2 has error 0.935631378553\n",
      "The rank 10 and regularization 0.3 has error 0.959545624773\n",
      "The rank 10 and regularization 0.4 has error 0.998777517814\n",
      "The rank 12 and regularization 0.1 has error 0.95966892676\n",
      "The rank 12 and regularization 0.2 has error 0.936733968529\n",
      "The rank 12 and regularization 0.3 has error 0.959297416943\n",
      "The rank 12 and regularization 0.4 has error 0.998784786965\n",
      "The best model is rank 10 with regularization 0.2\n"
     ]
    },
    {
     "data": {
      "text/plain": [
       "[1.1469641562072765,\n",
       " 1.1018654832966273,\n",
       " 1.0046877240641021,\n",
       " 0.9522693248398854,\n",
       " 0.9361754487290246,\n",
       " 1.2013746435713124,\n",
       " 1.1705361550207616,\n",
       " 1.0211417171343715,\n",
       " 0.9578078185639611,\n",
       " 0.9367537827800781,\n",
       " 1.3148411730008425,\n",
       " 1.2088292152403097,\n",
       " 1.036941236430903,\n",
       " 0.9642838270205953,\n",
       " 0.9360784515274764,\n",
       " 1.3180577749473712,\n",
       " 1.2466503806582134,\n",
       " 1.0540927346939004,\n",
       " 0.9632631974580673,\n",
       " 0.9364552169162403,\n",
       " 0.9559431401008522,\n",
       " 0.9356731474036093,\n",
       " 0.9593929429848145,\n",
       " 0.9983645747915506,\n",
       " 0.9589496982570764,\n",
       " 0.9365535156083707,\n",
       " 0.9594120330373135,\n",
       " 0.9985711379152917,\n",
       " 0.9574186151088256,\n",
       " 0.935631378552555,\n",
       " 0.9595456247734144,\n",
       " 0.998777517813549,\n",
       " 0.9596689267602637,\n",
       " 0.9367339685287167,\n",
       " 0.9592974169426627,\n",
       " 0.9987847869650786]"
      ]
     },
     "execution_count": 70,
     "metadata": {},
     "output_type": "execute_result"
    }
   ],
   "source": [
    "ranks = [6, 8, 10, 12]\n",
    "reg_params = [0.1, 0.2, 0.3, 0.4]\n",
    "num_iterations = 15\n",
    "train_ALS(train, validation, num_iterations,reg_params, ranks, all_errors)"
   ]
  },
  {
   "cell_type": "markdown",
   "metadata": {},
   "source": [
    "## The Model Selection and Evaluation\n",
    "\n",
    "From previous two training steps, we could basically find that the model with 8 latent factors and lambda = 0.2, by iterating over 15 times yields the best result."
   ]
  },
  {
   "cell_type": "code",
   "execution_count": 73,
   "metadata": {
    "collapsed": false
   },
   "outputs": [
    {
     "name": "stdout",
     "output_type": "stream",
     "text": [
      "For testing data the error is 0.9085149741\n"
     ]
    }
   ],
   "source": [
    "best_rank = 8\n",
    "iterations = 15\n",
    "reg = 0.2\n",
    "final_model = ALS.train(train, best_rank, iterations=iterations,\n",
    "                      lambda_=reg)\n",
    "predictions = final_model.predictAll(test_RDD).map(lambda r: ((r[0], r[1]), r[2]))\n",
    "rates_and_preds = test.map(lambda r: ((int(r[0]), int(r[1])), float(r[2]))).join(predictions)\n",
    "error = math.sqrt(rates_and_preds.map(lambda r: (r[1][0] - r[1][1])**2).mean())\n",
    "print ('For testing data the error is %s' % (error))"
   ]
  },
  {
   "cell_type": "code",
   "execution_count": null,
   "metadata": {
    "collapsed": true
   },
   "outputs": [],
   "source": []
  }
 ],
 "metadata": {
  "kernelspec": {
   "display_name": "Python 2",
   "language": "python",
   "name": "python2"
  },
  "language_info": {
   "codemirror_mode": {
    "name": "ipython",
    "version": 2
   },
   "file_extension": ".py",
   "mimetype": "text/x-python",
   "name": "python",
   "nbconvert_exporter": "python",
   "pygments_lexer": "ipython2",
   "version": "2.7.13"
  }
 },
 "nbformat": 4,
 "nbformat_minor": 2
}
